{
 "cells": [
  {
   "cell_type": "markdown",
   "metadata": {},
   "source": [
    "### In this notebook, I will try to explain how to parse an XML file and then convert them to the CSV files. It is an important step since Tensorflow Object Detection API requires input data as TFRecord format and converting XML files to CSV is literally the first step to create a TFRecord data. Later we will combine CSV files with input images to create TFRecords for our models."
   ]
  },
  {
   "cell_type": "code",
   "execution_count": 1,
   "metadata": {},
   "outputs": [],
   "source": [
    "import os "
   ]
  },
  {
   "cell_type": "code",
   "execution_count": 2,
   "metadata": {},
   "outputs": [
    {
     "data": {
      "text/plain": [
       "'C:\\\\Users\\\\FURKANG'"
      ]
     },
     "execution_count": 2,
     "metadata": {},
     "output_type": "execute_result"
    }
   ],
   "source": [
    "os.getcwd()"
   ]
  },
  {
   "cell_type": "code",
   "execution_count": 3,
   "metadata": {},
   "outputs": [],
   "source": [
    "import sys "
   ]
  },
  {
   "cell_type": "code",
   "execution_count": 4,
   "metadata": {},
   "outputs": [
    {
     "data": {
      "text/plain": [
       "'3.6.5 |Anaconda, Inc.| (default, Mar 29 2018, 13:32:41) [MSC v.1900 64 bit (AMD64)]'"
      ]
     },
     "execution_count": 4,
     "metadata": {},
     "output_type": "execute_result"
    }
   ],
   "source": [
    "sys.version"
   ]
  },
  {
   "cell_type": "code",
   "execution_count": 5,
   "metadata": {},
   "outputs": [],
   "source": [
    "import glob "
   ]
  },
  {
   "cell_type": "code",
   "execution_count": 6,
   "metadata": {},
   "outputs": [],
   "source": [
    "import pandas as pd "
   ]
  },
  {
   "cell_type": "code",
   "execution_count": 7,
   "metadata": {},
   "outputs": [],
   "source": [
    "import numpy as np "
   ]
  },
  {
   "cell_type": "code",
   "execution_count": 8,
   "metadata": {},
   "outputs": [],
   "source": [
    "import matplotlib.pyplot as plt "
   ]
  },
  {
   "cell_type": "code",
   "execution_count": 9,
   "metadata": {},
   "outputs": [],
   "source": [
    "# THIS IS \"THE XML LIBRARY\" FOR PYTHON.\n",
    "import xml.etree.ElementTree as ET"
   ]
  },
  {
   "cell_type": "code",
   "execution_count": 10,
   "metadata": {},
   "outputs": [],
   "source": [
    "os.chdir(r\"C:\\Users\\FURKANG\\Desktop\\annotation2\\annotation1\\out1\")"
   ]
  },
  {
   "cell_type": "code",
   "execution_count": 11,
   "metadata": {},
   "outputs": [
    {
     "name": "stdout",
     "output_type": "stream",
     "text": [
      "annotation1_1_last.xml\n",
      "annotation1_2_last.xml\n",
      "annotation1_3_last.xml\n",
      "annotation1_4_last.xml\n",
      "annotation1_5_last.xml\n",
      "firstproject1.xml\n",
      "firstproject2.xml\n",
      "firstproject3.xml\n",
      "firstproject4.xml\n",
      "firstproject5.xml\n"
     ]
    }
   ],
   "source": [
    "xml_files = glob.glob(\"*.xml\")\n",
    "for i in xml_files:\n",
    "    print(i)"
   ]
  },
  {
   "cell_type": "code",
   "execution_count": 12,
   "metadata": {},
   "outputs": [],
   "source": [
    "# We must first parse xml file to create an ElementTree\n",
    "tree = ET.parse(\"firstproject1.xml\")"
   ]
  },
  {
   "cell_type": "code",
   "execution_count": 13,
   "metadata": {},
   "outputs": [
    {
     "data": {
      "text/plain": [
       "xml.etree.ElementTree.ElementTree"
      ]
     },
     "execution_count": 13,
     "metadata": {},
     "output_type": "execute_result"
    }
   ],
   "source": [
    "type(tree)"
   ]
  },
  {
   "cell_type": "code",
   "execution_count": 14,
   "metadata": {},
   "outputs": [],
   "source": [
    "# Necessary for further operations.\n",
    "root = tree.getroot()"
   ]
  },
  {
   "cell_type": "code",
   "execution_count": 15,
   "metadata": {},
   "outputs": [
    {
     "data": {
      "text/plain": [
       "xml.etree.ElementTree.Element"
      ]
     },
     "execution_count": 15,
     "metadata": {},
     "output_type": "execute_result"
    }
   ],
   "source": [
    "type(root)"
   ]
  },
  {
   "cell_type": "code",
   "execution_count": 16,
   "metadata": {},
   "outputs": [
    {
     "data": {
      "text/plain": [
       "<Element 'doc' at 0x0000027189B895E8>"
      ]
     },
     "execution_count": 16,
     "metadata": {},
     "output_type": "execute_result"
    }
   ],
   "source": [
    "root"
   ]
  },
  {
   "cell_type": "code",
   "execution_count": 17,
   "metadata": {},
   "outputs": [
    {
     "data": {
      "text/plain": [
       "5"
      ]
     },
     "execution_count": 17,
     "metadata": {},
     "output_type": "execute_result"
    }
   ],
   "source": [
    "#Lets see how many parts our xml file has.\n",
    "len(root)"
   ]
  },
  {
   "cell_type": "code",
   "execution_count": 18,
   "metadata": {},
   "outputs": [
    {
     "name": "stdout",
     "output_type": "stream",
     "text": [
      "<Element 'path' at 0x0000027189A66E08>\n",
      "<Element 'outputs' at 0x0000027189C09A48>\n",
      "<Element 'time_labeled' at 0x0000027189DBDF48>\n",
      "<Element 'labeled' at 0x0000027189DBDF98>\n",
      "<Element 'size' at 0x0000027189DC0048>\n"
     ]
    }
   ],
   "source": [
    "# check their names\n",
    "for i in root:\n",
    "    print(i)"
   ]
  },
  {
   "cell_type": "code",
   "execution_count": 19,
   "metadata": {},
   "outputs": [
    {
     "data": {
      "text/plain": [
       "xml.etree.ElementTree.Element"
      ]
     },
     "execution_count": 19,
     "metadata": {},
     "output_type": "execute_result"
    }
   ],
   "source": [
    "type(root[0])"
   ]
  },
  {
   "cell_type": "code",
   "execution_count": 20,
   "metadata": {},
   "outputs": [
    {
     "data": {
      "text/plain": [
       "xml.etree.ElementTree.Element"
      ]
     },
     "execution_count": 20,
     "metadata": {},
     "output_type": "execute_result"
    }
   ],
   "source": [
    "type(root[1])"
   ]
  },
  {
   "cell_type": "code",
   "execution_count": 21,
   "metadata": {},
   "outputs": [
    {
     "name": "stdout",
     "output_type": "stream",
     "text": [
      "0\n",
      "1\n",
      "0\n",
      "0\n",
      "3\n"
     ]
    }
   ],
   "source": [
    "#check their lengths\n",
    "for i in root:\n",
    "    print(len(i))"
   ]
  },
  {
   "cell_type": "code",
   "execution_count": 22,
   "metadata": {},
   "outputs": [
    {
     "name": "stdout",
     "output_type": "stream",
     "text": [
      "<Element 'width' at 0x0000027189DC0098>\n",
      "1000\n",
      "<Element 'height' at 0x0000027189DC00E8>\n",
      "600\n",
      "<Element 'depth' at 0x0000027189DC0138>\n",
      "3\n"
     ]
    }
   ],
   "source": [
    "#  SEE what are the elements of \"size\" ( root[4] )\n",
    "for i in root[4]:\n",
    "    print(i)\n",
    "    print(i.text)"
   ]
  },
  {
   "cell_type": "code",
   "execution_count": 48,
   "metadata": {},
   "outputs": [
    {
     "name": "stdout",
     "output_type": "stream",
     "text": [
      "<class 'xml.etree.ElementTree.Element'>\n",
      "1\n"
     ]
    }
   ],
   "source": [
    "for i in root.findall(\"outputs\"):\n",
    "    print(type(i))\n",
    "    print(len(i))"
   ]
  },
  {
   "cell_type": "code",
   "execution_count": 30,
   "metadata": {},
   "outputs": [
    {
     "name": "stdout",
     "output_type": "stream",
     "text": [
      "<Element 'name' at 0x0000027189C09AE8>\n",
      "id1\n"
     ]
    }
   ],
   "source": [
    "for member in root.findall(\"outputs\"):\n",
    "    for objects in member.findall(\"object\"):\n",
    "        print(objects[0][0])\n",
    "        print(objects[0][0].text)"
   ]
  },
  {
   "cell_type": "code",
   "execution_count": 32,
   "metadata": {},
   "outputs": [
    {
     "name": "stdout",
     "output_type": "stream",
     "text": [
      "<Element 'keyframe' at 0x0000027189C09B38>\n"
     ]
    }
   ],
   "source": [
    "for member in root.findall(\"outputs\"):\n",
    "    for objects in member.findall(\"object\"):\n",
    "        print(objects[0][1][0])"
   ]
  },
  {
   "cell_type": "code",
   "execution_count": 36,
   "metadata": {},
   "outputs": [
    {
     "name": "stdout",
     "output_type": "stream",
     "text": [
      "<Element 'time' at 0x0000027189C09B88>\n",
      "0.00\n",
      "<Element 'xmin' at 0x0000027189C09BD8>\n",
      "418\n",
      "<Element 'ymin' at 0x0000027189C09C28>\n",
      "117\n",
      "<Element 'xmax' at 0x0000027189C09C78>\n",
      "495\n",
      "<Element 'ymax' at 0x0000027189C09CC8>\n",
      "265\n"
     ]
    }
   ],
   "source": [
    "for member in root.findall(\"outputs\"):\n",
    "    for objects in member.findall(\"object\"):\n",
    "        print(objects[0][1][0][0])\n",
    "        print(objects[0][1][0][0].text)\n",
    "        print(objects[0][1][0][1])\n",
    "        print(objects[0][1][0][1].text)\n",
    "        print(objects[0][1][0][2])\n",
    "        print(objects[0][1][0][2].text)\n",
    "        print(objects[0][1][0][3])\n",
    "        print(objects[0][1][0][3].text)\n",
    "        print(objects[0][1][0][4])\n",
    "        print(objects[0][1][0][4].text)"
   ]
  },
  {
   "cell_type": "markdown",
   "metadata": {},
   "source": [
    "<font size = 5>Lets further investigate what our XML formatted data includes."
   ]
  },
  {
   "cell_type": "code",
   "execution_count": 37,
   "metadata": {},
   "outputs": [
    {
     "name": "stdout",
     "output_type": "stream",
     "text": [
      "<Element 'ymax' at 0x0000027189C09CC8>\n"
     ]
    }
   ],
   "source": [
    "for member in root.findall(\"outputs\"):\n",
    "    for objects in member.findall(\"object\"):\n",
    "        print(objects[0][1][0][4])"
   ]
  },
  {
   "cell_type": "code",
   "execution_count": 38,
   "metadata": {},
   "outputs": [
    {
     "name": "stdout",
     "output_type": "stream",
     "text": [
      "265\n"
     ]
    }
   ],
   "source": [
    "for member in root.findall(\"outputs\"):\n",
    "    for objects in member.findall(\"object\"):\n",
    "        print(objects[0][1][0][4].text)"
   ]
  },
  {
   "cell_type": "code",
   "execution_count": 108,
   "metadata": {},
   "outputs": [
    {
     "name": "stdout",
     "output_type": "stream",
     "text": [
      "(265, 495)\n",
      "[(265, 495)]\n"
     ]
    }
   ],
   "source": [
    "list1 = []\n",
    "for member in root.findall(\"outputs\"):\n",
    "    for objects in member.findall(\"object\"):\n",
    "        value = (int(objects[0][1][0][4].text), int(objects[0][1][0][3].text))\n",
    "        print(value)\n",
    "        list1.append(value)\n",
    "        print(list1)"
   ]
  },
  {
   "cell_type": "code",
   "execution_count": 39,
   "metadata": {},
   "outputs": [
    {
     "name": "stdout",
     "output_type": "stream",
     "text": [
      "id25\n"
     ]
    }
   ],
   "source": [
    "for member in root.findall(\"outputs\"):\n",
    "    for objects in member.findall(\"object\"):\n",
    "        print(objects[24][0].text) "
   ]
  },
  {
   "cell_type": "code",
   "execution_count": 40,
   "metadata": {},
   "outputs": [],
   "source": [
    "import math"
   ]
  },
  {
   "cell_type": "code",
   "execution_count": 60,
   "metadata": {},
   "outputs": [
    {
     "data": {
      "text/html": [
       "<div>\n",
       "<style scoped>\n",
       "    .dataframe tbody tr th:only-of-type {\n",
       "        vertical-align: middle;\n",
       "    }\n",
       "\n",
       "    .dataframe tbody tr th {\n",
       "        vertical-align: top;\n",
       "    }\n",
       "\n",
       "    .dataframe thead th {\n",
       "        text-align: right;\n",
       "    }\n",
       "</style>\n",
       "<table border=\"1\" class=\"dataframe\">\n",
       "  <thead>\n",
       "    <tr style=\"text-align: right;\">\n",
       "      <th></th>\n",
       "      <th>name_id</th>\n",
       "      <th>time</th>\n",
       "      <th>x_min</th>\n",
       "      <th>y_min</th>\n",
       "      <th>x_max</th>\n",
       "      <th>y_max</th>\n",
       "      <th>image_path</th>\n",
       "    </tr>\n",
       "  </thead>\n",
       "  <tbody>\n",
       "    <tr>\n",
       "      <th>0</th>\n",
       "      <td>id1</td>\n",
       "      <td>0.00</td>\n",
       "      <td>418</td>\n",
       "      <td>117</td>\n",
       "      <td>495</td>\n",
       "      <td>265</td>\n",
       "      <td>C:\\Users\\FURKANG\\Desktop\\annotation2\\annotatio...</td>\n",
       "    </tr>\n",
       "    <tr>\n",
       "      <th>1</th>\n",
       "      <td>id1</td>\n",
       "      <td>3.50</td>\n",
       "      <td>418</td>\n",
       "      <td>118</td>\n",
       "      <td>494</td>\n",
       "      <td>265</td>\n",
       "      <td>C:\\Users\\FURKANG\\Desktop\\annotation2\\annotatio...</td>\n",
       "    </tr>\n",
       "    <tr>\n",
       "      <th>2</th>\n",
       "      <td>id1</td>\n",
       "      <td>5.15</td>\n",
       "      <td>421</td>\n",
       "      <td>115</td>\n",
       "      <td>496</td>\n",
       "      <td>261</td>\n",
       "      <td>C:\\Users\\FURKANG\\Desktop\\annotation2\\annotatio...</td>\n",
       "    </tr>\n",
       "    <tr>\n",
       "      <th>3</th>\n",
       "      <td>id1</td>\n",
       "      <td>6.55</td>\n",
       "      <td>418</td>\n",
       "      <td>113</td>\n",
       "      <td>492</td>\n",
       "      <td>258</td>\n",
       "      <td>C:\\Users\\FURKANG\\Desktop\\annotation2\\annotatio...</td>\n",
       "    </tr>\n",
       "    <tr>\n",
       "      <th>4</th>\n",
       "      <td>id1</td>\n",
       "      <td>7.33</td>\n",
       "      <td>420</td>\n",
       "      <td>121</td>\n",
       "      <td>493</td>\n",
       "      <td>265</td>\n",
       "      <td>C:\\Users\\FURKANG\\Desktop\\annotation2\\annotatio...</td>\n",
       "    </tr>\n",
       "    <tr>\n",
       "      <th>5</th>\n",
       "      <td>id1</td>\n",
       "      <td>8.32</td>\n",
       "      <td>417</td>\n",
       "      <td>117</td>\n",
       "      <td>489</td>\n",
       "      <td>260</td>\n",
       "      <td>C:\\Users\\FURKANG\\Desktop\\annotation2\\annotatio...</td>\n",
       "    </tr>\n",
       "    <tr>\n",
       "      <th>6</th>\n",
       "      <td>id1</td>\n",
       "      <td>9.35</td>\n",
       "      <td>423</td>\n",
       "      <td>117</td>\n",
       "      <td>494</td>\n",
       "      <td>259</td>\n",
       "      <td>C:\\Users\\FURKANG\\Desktop\\annotation2\\annotatio...</td>\n",
       "    </tr>\n",
       "    <tr>\n",
       "      <th>7</th>\n",
       "      <td>id1</td>\n",
       "      <td>10.35</td>\n",
       "      <td>428</td>\n",
       "      <td>117</td>\n",
       "      <td>498</td>\n",
       "      <td>258</td>\n",
       "      <td>C:\\Users\\FURKANG\\Desktop\\annotation2\\annotatio...</td>\n",
       "    </tr>\n",
       "    <tr>\n",
       "      <th>8</th>\n",
       "      <td>id1</td>\n",
       "      <td>11.35</td>\n",
       "      <td>421</td>\n",
       "      <td>120</td>\n",
       "      <td>502</td>\n",
       "      <td>278</td>\n",
       "      <td>C:\\Users\\FURKANG\\Desktop\\annotation2\\annotatio...</td>\n",
       "    </tr>\n",
       "    <tr>\n",
       "      <th>9</th>\n",
       "      <td>id1</td>\n",
       "      <td>12.35</td>\n",
       "      <td>417</td>\n",
       "      <td>117</td>\n",
       "      <td>497</td>\n",
       "      <td>274</td>\n",
       "      <td>C:\\Users\\FURKANG\\Desktop\\annotation2\\annotatio...</td>\n",
       "    </tr>\n",
       "  </tbody>\n",
       "</table>\n",
       "</div>"
      ],
      "text/plain": [
       "  name_id   time x_min y_min x_max y_max  \\\n",
       "0     id1   0.00   418   117   495   265   \n",
       "1     id1   3.50   418   118   494   265   \n",
       "2     id1   5.15   421   115   496   261   \n",
       "3     id1   6.55   418   113   492   258   \n",
       "4     id1   7.33   420   121   493   265   \n",
       "5     id1   8.32   417   117   489   260   \n",
       "6     id1   9.35   423   117   494   259   \n",
       "7     id1  10.35   428   117   498   258   \n",
       "8     id1  11.35   421   120   502   278   \n",
       "9     id1  12.35   417   117   497   274   \n",
       "\n",
       "                                          image_path  \n",
       "0  C:\\Users\\FURKANG\\Desktop\\annotation2\\annotatio...  \n",
       "1  C:\\Users\\FURKANG\\Desktop\\annotation2\\annotatio...  \n",
       "2  C:\\Users\\FURKANG\\Desktop\\annotation2\\annotatio...  \n",
       "3  C:\\Users\\FURKANG\\Desktop\\annotation2\\annotatio...  \n",
       "4  C:\\Users\\FURKANG\\Desktop\\annotation2\\annotatio...  \n",
       "5  C:\\Users\\FURKANG\\Desktop\\annotation2\\annotatio...  \n",
       "6  C:\\Users\\FURKANG\\Desktop\\annotation2\\annotatio...  \n",
       "7  C:\\Users\\FURKANG\\Desktop\\annotation2\\annotatio...  \n",
       "8  C:\\Users\\FURKANG\\Desktop\\annotation2\\annotatio...  \n",
       "9  C:\\Users\\FURKANG\\Desktop\\annotation2\\annotatio...  "
      ]
     },
     "execution_count": 60,
     "metadata": {},
     "output_type": "execute_result"
    }
   ],
   "source": [
    "xml_list = []\n",
    "for member in root.findall(\"outputs\"):\n",
    "    for objects in member.findall(\"object\"):\n",
    "        for item in objects:\n",
    "            for k in range(len(item[1])):\n",
    "                value = (item[0].text, float(item[1][k][0].text),item[1][k][1].text,item[1][k][2].text,\n",
    "                         item[1][k][3].text, item[1][k][4].text, \n",
    "                         os.path.join(os.getcwd(), \"img_{}\".format(math.ceil(float(item[1][k][0].text)))))\n",
    "                xml_list.append(value)\n",
    "column_names = [\"name_id\", \"time\",\"x_min\", \"y_min\", \"x_max\", \"y_max\",\"image_path\"]\n",
    "xml_df = pd.DataFrame(xml_list, columns=column_names)\n",
    "xml_df.head(10)"
   ]
  },
  {
   "cell_type": "code",
   "execution_count": 61,
   "metadata": {},
   "outputs": [
    {
     "data": {
      "text/html": [
       "<div>\n",
       "<style scoped>\n",
       "    .dataframe tbody tr th:only-of-type {\n",
       "        vertical-align: middle;\n",
       "    }\n",
       "\n",
       "    .dataframe tbody tr th {\n",
       "        vertical-align: top;\n",
       "    }\n",
       "\n",
       "    .dataframe thead th {\n",
       "        text-align: right;\n",
       "    }\n",
       "</style>\n",
       "<table border=\"1\" class=\"dataframe\">\n",
       "  <thead>\n",
       "    <tr style=\"text-align: right;\">\n",
       "      <th></th>\n",
       "      <th>name_id</th>\n",
       "      <th>time</th>\n",
       "      <th>x_min</th>\n",
       "      <th>y_min</th>\n",
       "      <th>x_max</th>\n",
       "      <th>y_max</th>\n",
       "      <th>image_path</th>\n",
       "    </tr>\n",
       "  </thead>\n",
       "  <tbody>\n",
       "    <tr>\n",
       "      <th>857</th>\n",
       "      <td>id25</td>\n",
       "      <td>57.66</td>\n",
       "      <td>72</td>\n",
       "      <td>249</td>\n",
       "      <td>205</td>\n",
       "      <td>369</td>\n",
       "      <td>C:\\Users\\FURKANG\\Desktop\\annotation2\\annotatio...</td>\n",
       "    </tr>\n",
       "    <tr>\n",
       "      <th>858</th>\n",
       "      <td>id25</td>\n",
       "      <td>58.66</td>\n",
       "      <td>0</td>\n",
       "      <td>300</td>\n",
       "      <td>132</td>\n",
       "      <td>420</td>\n",
       "      <td>C:\\Users\\FURKANG\\Desktop\\annotation2\\annotatio...</td>\n",
       "    </tr>\n",
       "    <tr>\n",
       "      <th>859</th>\n",
       "      <td>id25</td>\n",
       "      <td>59.62</td>\n",
       "      <td>5</td>\n",
       "      <td>299</td>\n",
       "      <td>136</td>\n",
       "      <td>419</td>\n",
       "      <td>C:\\Users\\FURKANG\\Desktop\\annotation2\\annotatio...</td>\n",
       "    </tr>\n",
       "    <tr>\n",
       "      <th>860</th>\n",
       "      <td>id25</td>\n",
       "      <td>60.56</td>\n",
       "      <td>10</td>\n",
       "      <td>302</td>\n",
       "      <td>140</td>\n",
       "      <td>422</td>\n",
       "      <td>C:\\Users\\FURKANG\\Desktop\\annotation2\\annotatio...</td>\n",
       "    </tr>\n",
       "    <tr>\n",
       "      <th>861</th>\n",
       "      <td>id25</td>\n",
       "      <td>61.61</td>\n",
       "      <td>13</td>\n",
       "      <td>306</td>\n",
       "      <td>142</td>\n",
       "      <td>426</td>\n",
       "      <td>C:\\Users\\FURKANG\\Desktop\\annotation2\\annotatio...</td>\n",
       "    </tr>\n",
       "    <tr>\n",
       "      <th>862</th>\n",
       "      <td>id25</td>\n",
       "      <td>62.69</td>\n",
       "      <td>258</td>\n",
       "      <td>184</td>\n",
       "      <td>386</td>\n",
       "      <td>304</td>\n",
       "      <td>C:\\Users\\FURKANG\\Desktop\\annotation2\\annotatio...</td>\n",
       "    </tr>\n",
       "    <tr>\n",
       "      <th>863</th>\n",
       "      <td>id25</td>\n",
       "      <td>63.68</td>\n",
       "      <td>484</td>\n",
       "      <td>85</td>\n",
       "      <td>579</td>\n",
       "      <td>244</td>\n",
       "      <td>C:\\Users\\FURKANG\\Desktop\\annotation2\\annotatio...</td>\n",
       "    </tr>\n",
       "    <tr>\n",
       "      <th>864</th>\n",
       "      <td>id25</td>\n",
       "      <td>64.65</td>\n",
       "      <td>566</td>\n",
       "      <td>41</td>\n",
       "      <td>660</td>\n",
       "      <td>199</td>\n",
       "      <td>C:\\Users\\FURKANG\\Desktop\\annotation2\\annotatio...</td>\n",
       "    </tr>\n",
       "    <tr>\n",
       "      <th>865</th>\n",
       "      <td>id25</td>\n",
       "      <td>65.63</td>\n",
       "      <td>597</td>\n",
       "      <td>12</td>\n",
       "      <td>662</td>\n",
       "      <td>145</td>\n",
       "      <td>C:\\Users\\FURKANG\\Desktop\\annotation2\\annotatio...</td>\n",
       "    </tr>\n",
       "    <tr>\n",
       "      <th>866</th>\n",
       "      <td>id25</td>\n",
       "      <td>66.65</td>\n",
       "      <td>1008</td>\n",
       "      <td>186</td>\n",
       "      <td>1072</td>\n",
       "      <td>318</td>\n",
       "      <td>C:\\Users\\FURKANG\\Desktop\\annotation2\\annotatio...</td>\n",
       "    </tr>\n",
       "  </tbody>\n",
       "</table>\n",
       "</div>"
      ],
      "text/plain": [
       "    name_id   time x_min y_min x_max y_max  \\\n",
       "857    id25  57.66    72   249   205   369   \n",
       "858    id25  58.66     0   300   132   420   \n",
       "859    id25  59.62     5   299   136   419   \n",
       "860    id25  60.56    10   302   140   422   \n",
       "861    id25  61.61    13   306   142   426   \n",
       "862    id25  62.69   258   184   386   304   \n",
       "863    id25  63.68   484    85   579   244   \n",
       "864    id25  64.65   566    41   660   199   \n",
       "865    id25  65.63   597    12   662   145   \n",
       "866    id25  66.65  1008   186  1072   318   \n",
       "\n",
       "                                            image_path  \n",
       "857  C:\\Users\\FURKANG\\Desktop\\annotation2\\annotatio...  \n",
       "858  C:\\Users\\FURKANG\\Desktop\\annotation2\\annotatio...  \n",
       "859  C:\\Users\\FURKANG\\Desktop\\annotation2\\annotatio...  \n",
       "860  C:\\Users\\FURKANG\\Desktop\\annotation2\\annotatio...  \n",
       "861  C:\\Users\\FURKANG\\Desktop\\annotation2\\annotatio...  \n",
       "862  C:\\Users\\FURKANG\\Desktop\\annotation2\\annotatio...  \n",
       "863  C:\\Users\\FURKANG\\Desktop\\annotation2\\annotatio...  \n",
       "864  C:\\Users\\FURKANG\\Desktop\\annotation2\\annotatio...  \n",
       "865  C:\\Users\\FURKANG\\Desktop\\annotation2\\annotatio...  \n",
       "866  C:\\Users\\FURKANG\\Desktop\\annotation2\\annotatio...  "
      ]
     },
     "execution_count": 61,
     "metadata": {},
     "output_type": "execute_result"
    }
   ],
   "source": [
    "xml_df.tail(10)"
   ]
  },
  {
   "cell_type": "code",
   "execution_count": 88,
   "metadata": {},
   "outputs": [
    {
     "name": "stdout",
     "output_type": "stream",
     "text": [
      "('id1', <Element 'time' at 0x0000027189C09B88>, 0.0)\n",
      "('id2', <Element 'time' at 0x0000027189C2C778>, 0.0)\n",
      "('id3', <Element 'time' at 0x0000027189C33368>, 0.0)\n",
      "('id4', <Element 'time' at 0x0000027189C6EEF8>, 0.0)\n",
      "('id5', <Element 'time' at 0x0000027189C8C728>, 0.0)\n",
      "('id6', <Element 'time' at 0x0000027189CAB318>, 0.0)\n",
      "('id7', <Element 'time' at 0x0000027189CBA728>, 0.0)\n",
      "('id8', <Element 'time' at 0x0000027189CD2BD8>, 0.0)\n",
      "('id9', <Element 'time' at 0x0000027189CEC4A8>, 0.0)\n",
      "('id10', <Element 'time' at 0x0000027189D0B098>, 0.0)\n",
      "('id11', <Element 'time' at 0x0000027189D26A48>, 0.0)\n",
      "('id12', <Element 'time' at 0x0000027189D420E8>, 0.0)\n"
     ]
    }
   ],
   "source": [
    "## To be continued...\n",
    "\n",
    "dict_f = {}\n",
    "for member in root.findall(\"outputs\"):\n",
    "    for objects in member.findall(\"object\"):\n",
    "        for k in range(len(objects)):\n",
    "            if float(objects[k][1][0][0].text) == 0.0:  \n",
    "                values = (objects[k][0].text, objects[k][1][0][0], float(objects[k][1][0][0].text))\n",
    "                print(values)"
   ]
  },
  {
   "cell_type": "code",
   "execution_count": 150,
   "metadata": {},
   "outputs": [],
   "source": [
    "column_names = [\"image_path\", \"time\", \"name_id\", \"x_min\", \"y_min\", \"x_max\", \"y_max\"]"
   ]
  },
  {
   "cell_type": "code",
   "execution_count": null,
   "metadata": {},
   "outputs": [],
   "source": []
  }
 ],
 "metadata": {
  "kernelspec": {
   "display_name": "Python 3",
   "language": "python",
   "name": "python3"
  },
  "language_info": {
   "codemirror_mode": {
    "name": "ipython",
    "version": 3
   },
   "file_extension": ".py",
   "mimetype": "text/x-python",
   "name": "python",
   "nbconvert_exporter": "python",
   "pygments_lexer": "ipython3",
   "version": "3.6.5"
  }
 },
 "nbformat": 4,
 "nbformat_minor": 2
}
